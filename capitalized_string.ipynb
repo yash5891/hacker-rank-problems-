{
  "nbformat": 4,
  "nbformat_minor": 0,
  "metadata": {
    "colab": {
      "provenance": [],
      "authorship_tag": "ABX9TyPsjlhJjV7k5MFVIrUrfBbC",
      "include_colab_link": true
    },
    "kernelspec": {
      "name": "python3",
      "display_name": "Python 3"
    },
    "language_info": {
      "name": "python"
    }
  },
  "cells": [
    {
      "cell_type": "markdown",
      "metadata": {
        "id": "view-in-github",
        "colab_type": "text"
      },
      "source": [
        "<a href=\"https://colab.research.google.com/github/yash5891/hacker-rank-problems-/blob/main/capitalized_string.ipynb\" target=\"_parent\"><img src=\"https://colab.research.google.com/assets/colab-badge.svg\" alt=\"Open In Colab\"/></a>"
      ]
    },
    {
      "cell_type": "code",
      "execution_count": 2,
      "metadata": {
        "colab": {
          "base_uri": "https://localhost:8080/",
          "height": 36
        },
        "id": "Kl_BrOCRGzfT",
        "outputId": "f0d5f48d-c6dd-4d0a-c02b-464cdf7e6097"
      },
      "outputs": [
        {
          "output_type": "execute_result",
          "data": {
            "text/plain": [
              "'Yash Prashant Katkade'"
            ],
            "application/vnd.google.colaboratory.intrinsic+json": {
              "type": "string"
            }
          },
          "metadata": {},
          "execution_count": 2
        }
      ],
      "source": [
        "\n",
        "# Complete the solve function below.\n",
        "def solve(s):\n",
        "  c=s.title()\n",
        "  return  c\n",
        "solve(\"yash prashant katkade\")"
      ]
    },
    {
      "cell_type": "code",
      "source": [
        "def capitalize_each_word(original_str):\n",
        "    result = \"\"\n",
        "    # Split the string and get all words in a list\n",
        "    list_of_words = original_str.split()\n",
        "    # Iterate over all elements in list\n",
        "    for elem in list_of_words:\n",
        "        # capitalize first letter of each word and add to a string\n",
        "        if len(result) > 0:\n",
        "            result = result + \" \" + elem.strip().capitalize()\n",
        "        else:\n",
        "            result = elem.capitalize()\n",
        "    # If result is still empty then return original string else returned capitalized.\n",
        "    if not result:\n",
        "        return original_str\n",
        "    else:\n",
        "        return result\n",
        "\n",
        "sample_text = \"33a. it's GONE too far\"\n",
        "\n",
        "result = capitalize_each_word(sample_text)\n",
        "\n",
        "print(result)"
      ],
      "metadata": {
        "colab": {
          "base_uri": "https://localhost:8080/"
        },
        "id": "VrtWKFOVHAhW",
        "outputId": "5c356239-358d-4625-c075-24e5ca2f80ef"
      },
      "execution_count": 3,
      "outputs": [
        {
          "output_type": "stream",
          "name": "stdout",
          "text": [
            "33a. It's Gone Too Far\n"
          ]
        }
      ]
    },
    {
      "cell_type": "code",
      "source": [
        "# prompt: You are asked to ensure that the first and last names of people begin with a capital letter in their passports. For example, alison heck should be capitalised correctly as Alison Heck.\n",
        "# Given a full name, your task is to capitalize the name appropriately.\n",
        "# Input Format\n",
        "# A single line of input containing the full name, .\n",
        "# Constraints\n",
        "# The string consists of alphanumeric characters and spaces.\n",
        "# Note\n",
        "\n",
        "def solve(s):\n",
        "    # Split the full name into individual words\n",
        "    words = s.split()\n",
        "\n",
        "    # Capitalize the first letter of each word\n",
        "    capitalized_words = [word.capitalize() for word in words]\n",
        "\n",
        "    # Join the capitalized words back into a single string\n",
        "    return ' '.join(capitalized_words)\n",
        "\n",
        "# Get the full name from the user\n",
        "s = input(\"Enter the full name: \")\n",
        "\n",
        "# Call the solve function to capitalize the name\n",
        "capitalized_name = solve(s)\n",
        "\n",
        "# Print the capitalized name\n",
        "print(capitalized_name)\n"
      ],
      "metadata": {
        "id": "cC1-t9A-HkPA"
      },
      "execution_count": null,
      "outputs": []
    },
    {
      "cell_type": "code",
      "source": [
        "def solve(s):\n",
        "    sl = s.split(\" \")\n",
        "    new_string = []\n",
        "    for i in sl:\n",
        "        new_string.append(i.capitalize())\n",
        "    new_string = \" \".join(new_string)\n",
        "    return new_string"
      ],
      "metadata": {
        "id": "jljmW3FaKmOt"
      },
      "execution_count": null,
      "outputs": []
    }
  ]
}