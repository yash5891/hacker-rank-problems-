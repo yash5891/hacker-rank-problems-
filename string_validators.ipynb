{
  "nbformat": 4,
  "nbformat_minor": 0,
  "metadata": {
    "colab": {
      "provenance": [],
      "authorship_tag": "ABX9TyOW8kYNMvyOhK60zEOdXN/K",
      "include_colab_link": true
    },
    "kernelspec": {
      "name": "python3",
      "display_name": "Python 3"
    },
    "language_info": {
      "name": "python"
    }
  },
  "cells": [
    {
      "cell_type": "markdown",
      "metadata": {
        "id": "view-in-github",
        "colab_type": "text"
      },
      "source": [
        "<a href=\"https://colab.research.google.com/github/yash5891/hacker-rank-problems-/blob/main/string_validators.ipynb\" target=\"_parent\"><img src=\"https://colab.research.google.com/assets/colab-badge.svg\" alt=\"Open In Colab\"/></a>"
      ]
    },
    {
      "cell_type": "code",
      "execution_count": null,
      "metadata": {
        "id": "Wp97mPn9XpoY"
      },
      "outputs": [],
      "source": [
        "if __name__ == '__main__':\n",
        "    s = input()\n",
        "\n",
        "res = False\n",
        "for i in s:\n",
        "    if i.isalnum():\n",
        "        res = True\n",
        "        break\n",
        "print(res)\n",
        "\n",
        "res = False\n",
        "for j in s:\n",
        "    if j.isalpha():\n",
        "        res = True\n",
        "        break\n",
        "print(res)\n",
        "\n",
        "res = False\n",
        "for k in s:\n",
        "    if k.isdigit():\n",
        "        res = True\n",
        "        break\n",
        "print(res)\n",
        "\n",
        "res = False\n",
        "for l in s:\n",
        "    if l.islower():\n",
        "        res = True\n",
        "        break\n",
        "print(res)\n",
        "\n",
        "res = False\n",
        "for l in s:\n",
        "    if l.isupper():\n",
        "        res = True\n",
        "        break\n",
        "print(res)\n",
        ""
      ]
    }
  ]
}