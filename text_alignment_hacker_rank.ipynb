{
  "nbformat": 4,
  "nbformat_minor": 0,
  "metadata": {
    "colab": {
      "provenance": [],
      "authorship_tag": "ABX9TyMnqxCuQ/BP3XS37S9zTXrH",
      "include_colab_link": true
    },
    "kernelspec": {
      "name": "python3",
      "display_name": "Python 3"
    },
    "language_info": {
      "name": "python"
    }
  },
  "cells": [
    {
      "cell_type": "markdown",
      "metadata": {
        "id": "view-in-github",
        "colab_type": "text"
      },
      "source": [
        "<a href=\"https://colab.research.google.com/github/yash5891/hacker-rank-problems-/blob/main/text_alignment_hacker_rank.ipynb\" target=\"_parent\"><img src=\"https://colab.research.google.com/assets/colab-badge.svg\" alt=\"Open In Colab\"/></a>"
      ]
    },
    {
      "cell_type": "code",
      "execution_count": null,
      "metadata": {
        "id": "p_bO-pt_9t70"
      },
      "outputs": [],
      "source": [
        "# Replace the blank with rjust, ljust or center.\n",
        "\n",
        "thickness = int(input()) #This must be an odd number\n",
        "c = 'H'\n",
        "\n",
        "# Top Cone\n",
        "for i in range(thickness):\n",
        "    print((c*i).rjust(thickness-1)+c+(c*i).ljust(thickness-1))\n",
        "\n",
        "# Top Pillars\n",
        "for i in range(thickness+1):\n",
        "    print((c*thickness).center(thickness*2)+(c*thickness).center(thickness*6))\n",
        "\n",
        "# Middle Belt\n",
        "for i in range((thickness+1)//2):\n",
        "    print((c*thickness*5).center(thickness*6))\n",
        "\n",
        "# Bottom Pillars\n",
        "for i in range(thickness+1):\n",
        "    print((c*thickness).center(thickness*2)+(c*thickness).center(thickness*6))\n",
        "\n",
        "# Bottom Cone\n",
        "for i in range(thickness):\n",
        "    print(((c*(thickness-i-1)).rjust(thickness)+c+(c*(thickness-i-1)).ljust(thickness)).rjust(thickness*6))"
      ]
    }
  ]
}