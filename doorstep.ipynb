{
  "nbformat": 4,
  "nbformat_minor": 0,
  "metadata": {
    "colab": {
      "provenance": [],
      "authorship_tag": "ABX9TyM22/IsSNeRW6RoaATrxI1W",
      "include_colab_link": true
    },
    "kernelspec": {
      "name": "python3",
      "display_name": "Python 3"
    },
    "language_info": {
      "name": "python"
    }
  },
  "cells": [
    {
      "cell_type": "markdown",
      "metadata": {
        "id": "view-in-github",
        "colab_type": "text"
      },
      "source": [
        "<a href=\"https://colab.research.google.com/github/yash5891/hacker-rank-problems-/blob/main/doorstep.ipynb\" target=\"_parent\"><img src=\"https://colab.research.google.com/assets/colab-badge.svg\" alt=\"Open In Colab\"/></a>"
      ]
    },
    {
      "cell_type": "code",
      "execution_count": null,
      "metadata": {
        "id": "nmo4xI2cLaMm"
      },
      "outputs": [],
      "source": [
        "N,M=input().split()\n",
        "N=int(N)\n",
        "M=int(M)\n",
        "x=(N+1)//2\n",
        "x=x+x-2\n",
        "\n",
        "for i in range(1,x,2):\n",
        "        print(('.|.'*i).center(M,'-'))\n",
        "print ('WELCOME'.center(M,'-'))\n",
        "for i in range(x-1,0,-2):\n",
        "        print(('.|.'*i).center(M,'-'))\n"
      ]
    }
  ]
}